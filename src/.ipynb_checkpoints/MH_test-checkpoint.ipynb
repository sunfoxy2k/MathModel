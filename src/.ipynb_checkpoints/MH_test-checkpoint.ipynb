{
 "cells": [
  {
   "cell_type": "markdown",
   "metadata": {},
   "source": [
    "# Description"
   ]
  },
  {
   "cell_type": "code",
   "execution_count": null,
   "metadata": {},
   "outputs": [],
   "source": []
  },
  {
   "cell_type": "markdown",
   "metadata": {},
   "source": [
    "# Environment"
   ]
  },
  {
   "cell_type": "markdown",
   "metadata": {},
   "source": [
    "## Library Imports"
   ]
  },
  {
   "cell_type": "code",
   "execution_count": 1,
   "metadata": {
    "ExecuteTime": {
     "end_time": "2019-12-15T02:58:49.170394Z",
     "start_time": "2019-12-15T02:58:48.965784Z"
    }
   },
   "outputs": [],
   "source": [
    "import os\n",
    "import gc\n",
    "gc.enable()\n",
    "\n",
    "import numpy as np\n",
    "import pandas as pd\n",
    "\n",
    "import matplotlib.pyplot as plt\n",
    "import seaborn as sns\n",
    "%matplotlib inline\n",
    "plt.style.use('ggplot')"
   ]
  },
  {
   "cell_type": "markdown",
   "metadata": {},
   "source": [
    "## Local Imports"
   ]
  },
  {
   "cell_type": "code",
   "execution_count": 2,
   "metadata": {},
   "outputs": [],
   "source": [
    "from phuc import data_process, file\n",
    "from phuc import visualization as vs"
   ]
  },
  {
   "cell_type": "markdown",
   "metadata": {},
   "source": [
    "## Reload data path"
   ]
  },
  {
   "cell_type": "code",
   "execution_count": 3,
   "metadata": {},
   "outputs": [
    {
     "name": "stdout",
     "output_type": "stream",
     "text": [
      "Loaded file data_path.pkl\n",
      "Directory  /home/phuc/Desktop/Work/Data Sience/Epidemic Modeling/MathModel  already exists\n",
      "Saved file data_path.pkl\n"
     ]
    }
   ],
   "source": [
    "from phuc.file import standard_template\n",
    "\n",
    "standard_template.save_data_path(os.getcwd().split('/src')[0])"
   ]
  },
  {
   "cell_type": "markdown",
   "metadata": {},
   "source": [
    "##  Setup Pandas"
   ]
  },
  {
   "cell_type": "code",
   "execution_count": 4,
   "metadata": {},
   "outputs": [],
   "source": [
    "pd.set_option('display.max_rows', 100)\n",
    "pd.set_option('display.max_columns', 100)"
   ]
  },
  {
   "cell_type": "markdown",
   "metadata": {},
   "source": [
    "## Set up data path"
   ]
  },
  {
   "cell_type": "code",
   "execution_count": 5,
   "metadata": {},
   "outputs": [],
   "source": [
    "CURR_DIR = os.getcwd().split('/src')[0]"
   ]
  },
  {
   "cell_type": "code",
   "execution_count": 6,
   "metadata": {},
   "outputs": [
    {
     "name": "stdout",
     "output_type": "stream",
     "text": [
      "Loaded file data_path.pkl\n"
     ]
    }
   ],
   "source": [
    "data_path = file.load_pickle(CURR_DIR + '/data_path.pkl')"
   ]
  },
  {
   "cell_type": "code",
   "execution_count": 7,
   "metadata": {},
   "outputs": [
    {
     "name": "stdout",
     "output_type": "stream",
     "text": [
      "PROJECT_DIR\n",
      "OUTPUTS_DIR\n",
      "PROCESSED_DIR\n",
      "WORKING_DIR\n",
      "RAW_DIR\n",
      "EXTERNAL_DIR\n",
      "COVID-19_DIR\n",
      "ARCHIVED_DATA_DIR\n",
      "WHO_COVID_19_SITUATION_REPORTS_DIR\n",
      "CSSE_COVID_19_DATA_DIR\n",
      "TIME_SERIES_2019-NCOV-RECOVERED_CSV_PATH\n",
      "ARCHIVED_TIME_SERIES_DIR\n",
      "02-12-2020_2200_CSV_PATH\n",
      "02-12-2020_1020_CSV_PATH\n",
      "01-23-2020_1200_CSV_PATH\n",
      "01-21-2020_2200_CSV_PATH\n",
      "02-03-2020_1230_CSV_PATH\n",
      "02-01-2020_1800_CSV_PATH\n",
      "02-02-2020_0500_CSV_PATH\n",
      "02-08-2020_2304_CSV_PATH\n",
      "01-29-2020_1430_CSV_PATH\n",
      "01-31-2020_1400_CSV_PATH\n",
      "01-25-2020_2200_CSV_PATH\n",
      "ARCHIVED_DAILY_CASE_UPDATES_DIR\n",
      "WHO_COVID_19_SIT_REP_TIME_SERIES_CSV_PATH\n",
      "WHO_COVID_19_SIT_REP_PDFS_DIR\n",
      "TIME_SERIES_COVID19_CONFIRMED_US_CSV_PATH\n",
      "ERRATA_CSV_PATH\n",
      "CSSE_COVID_19_TIME_SERIES_DIR\n",
      "03-08-2020_CSV_PATH\n",
      "05-01-2020_CSV_PATH\n",
      "04-16-2020_CSV_PATH\n",
      "01-27-2020_CSV_PATH\n",
      "05-02-2020_CSV_PATH\n",
      "04-17-2020_CSV_PATH\n",
      "06-28-2020_CSV_PATH\n",
      "06-25-2020_CSV_PATH\n",
      "04-13-2020_CSV_PATH\n",
      "04-12-2020_CSV_PATH\n",
      "03-20-2020_CSV_PATH\n",
      "03-05-2020_CSV_PATH\n",
      "05-17-2020_CSV_PATH\n",
      "02-01-2020_CSV_PATH\n",
      "05-13-2020_CSV_PATH\n",
      "04-10-2020_CSV_PATH\n",
      "01-25-2020_CSV_PATH\n",
      "05-26-2020_CSV_PATH\n",
      "06-09-2020_CSV_PATH\n",
      "06-13-2020_CSV_PATH\n",
      "02-19-2020_CSV_PATH\n",
      "CSSE_COVID_19_DAILY_REPORTS_DIR\n",
      "05-18-2020_CSV_PATH\n",
      "04-28-2020_CSV_PATH\n",
      "04-24-2020_CSV_PATH\n",
      "05-30-2020_CSV_PATH\n",
      "06-24-2020_CSV_PATH\n",
      "05-20-2020_CSV_PATH\n",
      "07-01-2020_CSV_PATH\n",
      "06-20-2020_CSV_PATH\n",
      "06-05-2020_CSV_PATH\n",
      "06-01-2020_CSV_PATH\n",
      "CSSE_COVID_19_DAILY_REPORTS_US_DIR\n"
     ]
    }
   ],
   "source": [
    "for key in data_path: print(key)"
   ]
  },
  {
   "cell_type": "markdown",
   "metadata": {},
   "source": [
    "# Code"
   ]
  },
  {
   "cell_type": "code",
   "execution_count": 21,
   "metadata": {},
   "outputs": [],
   "source": [
    "import random"
   ]
  },
  {
   "cell_type": "code",
   "execution_count": 22,
   "metadata": {},
   "outputs": [],
   "source": [
    "def makeXBetaGammaData(BETA, GAMMA, size):\n",
    "    # X ~ gammaDistribution(BETA, GAMMA)\n",
    "    # prob density function taken from https://en.wikipedia.org/wiki/Gamma_distribution\n",
    "    N = 10000\n",
    "    INIT_INFECTED = 1\n",
    "    INIT_RECOVERED = 0\n",
    "    TIME = size-1\n",
    "    #dataSIR = RK4.RK4SIR(N, INIT_INFECTED, INIT_RECOVERED, BETA, GAMMA, TIME, 1)\n",
    "\n",
    "    X = []\n",
    "    #for d in dataSIR:\n",
    "    #    X.append(d.recovered + d.infected)\n",
    "    for i in range(size):\n",
    "        X.append(random.gammavariate(BETA,GAMMA))\n",
    "    return X\n"
   ]
  },
  {
   "cell_type": "code",
   "execution_count": 130,
   "metadata": {},
   "outputs": [],
   "source": [
    "mod1=lambda t:np.random.gamma(10,1/3,t)\n",
    "\n",
    "population = mod1(30000)\n"
   ]
  },
  {
   "cell_type": "code",
   "execution_count": 129,
   "metadata": {},
   "outputs": [
    {
     "data": {
      "text/plain": [
       "[array([7.44635712]), array([1.88543733])]"
      ]
     },
     "execution_count": 129,
     "metadata": {},
     "output_type": "execute_result"
    }
   ],
   "source": [
    "transition_model([7,2])"
   ]
  },
  {
   "cell_type": "code",
   "execution_count": 244,
   "metadata": {},
   "outputs": [],
   "source": [
    "k = 0.3\n",
    "\n",
    "def propose_likelihood(x_new, x):\n",
    "    return np.log(normal_density(k,x[0],x_new[0])*normal_density(k,x[1],x_new[1]))\n",
    "\n",
    "normal_density = lambda sigma, mu, x :1/(sigma * np.sqrt(2 * np.pi)) * np.exp( - (x - mu)**2 / (2 * sigma**2))\n",
    "\n",
    "transition_model = lambda x: [np.random.normal(x[0],k,1),np.random.normal(x[1],k,1)]"
   ]
  },
  {
   "cell_type": "code",
   "execution_count": 207,
   "metadata": {},
   "outputs": [],
   "source": [
    "def prior(x):\n",
    "    #x[0] = mu, x[1]=sigma (new or current)\n",
    "    #returns 1 for all valid values of sigma. Log(1) =0, so it does not affect the summation.\n",
    "    #returns 0 for all invalid values of sigma (<=0). Log(0)=-infinity, and Log(negative number) is undefined.\n",
    "    #It makes the new sigma infinitely unlikely.\n",
    "    if(x[1] <=0):\n",
    "        return 0.001\n",
    "    return 1"
   ]
  },
  {
   "cell_type": "code",
   "execution_count": 208,
   "metadata": {},
   "outputs": [],
   "source": [
    "#Computes the likelihood of the data given a sigma (new or current) according to equation (2)\n",
    "def manual_log_like_normal(x,data):\n",
    "    #x[0]=mu, x[1]=sigma (new or current)\n",
    "    #data = the observation\n",
    "    n = len(data)\n",
    "    return n*np.log(x[1]**x[0]/math.gamma(x[0])) +(x[0]-1)*np.sum(np.log(data)) - x[1]*np.sum(data)"
   ]
  },
  {
   "cell_type": "code",
   "execution_count": 209,
   "metadata": {},
   "outputs": [],
   "source": [
    "#Defines whether to accept or reject the new sample\n",
    "def acceptance(x, x_new):\n",
    "    if x_new>x:\n",
    "        return True\n",
    "    else:\n",
    "        accept=np.random.uniform(0,1)\n",
    "        return (accept < (np.exp(x_new-x)))"
   ]
  },
  {
   "cell_type": "code",
   "execution_count": 237,
   "metadata": {},
   "outputs": [],
   "source": [
    "def metropolis_hastings(likelihood_computer,prior, transition_model, param_init,iterations,data,acceptance_rule):\n",
    "    \n",
    "    x = param_init\n",
    "    accepted = []\n",
    "    rejected = []   \n",
    "    for i in range(iterations):\n",
    "        \n",
    "        x_new =  transition_model(x)    \n",
    "        x_lik = likelihood_computer(x,data)\n",
    "        x_new_lik = likelihood_computer(x_new,data)\n",
    "        \n",
    "        Qold = propose_likelihood(x_new,x)\n",
    "        Qnew = propose_likelihood(x,x_new)\n",
    "        if (acceptance_rule(x_lik + np.log(prior(x)) + Qnew,\n",
    "                            x_new_lik+np.log(prior(x_new)) + Qold)):            \n",
    "            x = x_new\n",
    "            accepted.append(x_new)\n",
    "            #print(x_new, x_lik, x_new_lik)\n",
    "            #print(\"true\")\n",
    "        else:\n",
    "            rejected.append(x_new)            \n",
    "                \n",
    "    return np.array(accepted)"
   ]
  },
  {
   "cell_type": "code",
   "execution_count": 245,
   "metadata": {
    "scrolled": false
   },
   "outputs": [],
   "source": [
    "ac= metropolis_hastings(manual_log_like_normal,prior,transition_model,[7,1],10000,population, acceptance)"
   ]
  },
  {
   "cell_type": "code",
   "execution_count": 219,
   "metadata": {
    "hide_input": true
   },
   "outputs": [
    {
     "data": {
      "text/plain": [
       "0.24424716653492679"
      ]
     },
     "execution_count": 219,
     "metadata": {},
     "output_type": "execute_result"
    },
    {
     "data": {
      "image/png": "[encoded data removed]",
      "text/plain": [
       "<Figure size 432x288 with 1 Axes>"
      ]
     },
     "metadata": {
      "needs_background": "light"
     },
     "output_type": "display_data"
    }
   ],
   "source": [
    "sumb =0\n",
    "sumg =0\n",
    "for a,c in ac:\n",
    "    sumb += a\n",
    "    sumg += c\n",
    "    \n",
    "sumb /= len(ac)\n",
    "sumg /= len(ac)\n",
    "\n",
    "len(ac)\n",
    "\n",
    "t = [ac[i][1] for i in range(len(ac))]\n",
    "\n",
    "sns.distplot(t)\n",
    "np.array(t).std()"
   ]
  },
  {
   "cell_type": "code",
   "execution_count": 246,
   "metadata": {},
   "outputs": [
    {
     "data": {
      "text/plain": [
       "2.8606125278645864"
      ]
     },
     "execution_count": 246,
     "metadata": {},
     "output_type": "execute_result"
    },
    {
     "data": {
      "image/png": "[encoded data removed]",
      "text/plain": [
       "<Figure size 432x288 with 1 Axes>"
      ]
     },
     "metadata": {
      "needs_background": "light"
     },
     "output_type": "display_data"
    }
   ],
   "source": [
    "t = [ac[i][1] for i in range(len(ac))]\n",
    "\n",
    "sns.distplot(t)\n",
    "np.array(t).mean()"
   ]
  },
  {
   "cell_type": "code",
   "execution_count": 233,
   "metadata": {},
   "outputs": [
    {
     "data": {
      "text/plain": [
       "6734"
      ]
     },
     "execution_count": 233,
     "metadata": {},
     "output_type": "execute_result"
    }
   ],
   "source": [
    "len(ac)"
   ]
  },
  {
   "cell_type": "markdown",
   "metadata": {},
   "source": [
    "# Colab Settings"
   ]
  },
  {
   "cell_type": "code",
   "execution_count": 30,
   "metadata": {},
   "outputs": [],
   "source": [
    "import MH\n",
    "import internetExample as ie\n",
    "import RK4\n",
    "import math\n",
    "import random\n",
    "import numpy as np"
   ]
  },
  {
   "cell_type": "markdown",
   "metadata": {},
   "source": [
    "## Connect Drive"
   ]
  },
  {
   "cell_type": "code",
   "execution_count": null,
   "metadata": {},
   "outputs": [],
   "source": [
    "from google.colab import drive \n",
    "# conncent phuc.phan1012000@hcmut.edu.vn\n",
    "\n",
    "# default location for the drive\n",
    "ROOT = \"/content/drive\"            \n",
    "drive.mount(ROOT)   "
   ]
  },
  {
   "cell_type": "markdown",
   "metadata": {},
   "source": [
    "## Load Library"
   ]
  },
  {
   "cell_type": "code",
   "execution_count": null,
   "metadata": {},
   "outputs": [],
   "source": [
    "import sys\n",
    "import os\n",
    "# Load my phuc's library\n",
    "sys.path.append(\"/content/drive/My Drive/Work/Data_Science_Library\")"
   ]
  },
  {
   "cell_type": "markdown",
   "metadata": {},
   "source": [
    "## Setup Project"
   ]
  },
  {
   "cell_type": "code",
   "execution_count": null,
   "metadata": {},
   "outputs": [],
   "source": [
    "GIT_REPOSITORY = \"kalapa-s-CreditScore\"\n",
    "# path to project on Google Drive\n",
    "MY_GOOGLE_DRIVE_PATH = 'My Drive/Work/Projects'\n",
    "PROJECT_PATH = os.path.join(ROOT, MY_GOOGLE_DRIVE_PATH,GIT_REPOSITORY)\n",
    "\n",
    "# GO TO WORKING PROJECT PATH\n",
    "os.chdir(PROJECT_PATH+'/src')\n",
    "os.remove(PROJECT_PATH+'/data_path.pkl')"
   ]
  }
 ],
 "metadata": {
  "kernelspec": {
   "display_name": "Python 3",
   "language": "python",
   "name": "python3"
  },
  "language_info": {
   "codemirror_mode": {
    "name": "ipython",
    "version": 3
   },
   "file_extension": ".py",
   "mimetype": "text/x-python",
   "name": "python",
   "nbconvert_exporter": "python",
   "pygments_lexer": "ipython3",
   "version": "3.6.8"
  },
  "toc": {
   "base_numbering": 1,
   "nav_menu": {},
   "number_sections": false,
   "sideBar": false,
   "skip_h1_title": false,
   "title_cell": "Table of Contents",
   "title_sidebar": "Contents",
   "toc_cell": false,
   "toc_position": {
    "height": "631.717px",
    "left": "404px",
    "top": "60.2833px",
    "width": "383.283px"
   },
   "toc_section_display": true,
   "toc_window_display": false
  },
  "varInspector": {
   "cols": {
    "lenName": 16,
    "lenType": 16,
    "lenVar": 40
   },
   "kernels_config": {
    "python": {
     "delete_cmd_postfix": "",
     "delete_cmd_prefix": "del ",
     "library": "var_list.py",
     "varRefreshCmd": "print(var_dic_list())"
    },
    "r": {
     "delete_cmd_postfix": ") ",
     "delete_cmd_prefix": "rm(",
     "library": "var_list.r",
     "varRefreshCmd": "cat(var_dic_list()) "
    }
   },
   "types_to_exclude": [
    "module",
    "function",
    "builtin_function_or_method",
    "instance",
    "_Feature"
   ],
   "window_display": false
  }
 },
 "nbformat": 4,
 "nbformat_minor": 2
}
