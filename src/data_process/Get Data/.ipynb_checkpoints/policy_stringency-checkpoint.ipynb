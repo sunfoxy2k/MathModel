{
 "cells": [
  {
   "cell_type": "markdown",
   "metadata": {},
   "source": [
    "# Description"
   ]
  },
  {
   "cell_type": "code",
   "execution_count": null,
   "metadata": {},
   "outputs": [],
   "source": []
  },
  {
   "cell_type": "markdown",
   "metadata": {},
   "source": [
    "# Environment"
   ]
  },
  {
   "cell_type": "markdown",
   "metadata": {},
   "source": [
    "## Library Imports"
   ]
  },
  {
   "cell_type": "code",
   "execution_count": 71,
   "metadata": {
    "ExecuteTime": {
     "end_time": "2019-12-15T02:58:49.170394Z",
     "start_time": "2019-12-15T02:58:48.965784Z"
    }
   },
   "outputs": [],
   "source": [
    "import os\n",
    "import gc\n",
    "gc.enable()\n",
    "\n",
    "import numpy as np\n",
    "import pandas as pd\n",
    "\n",
    "import matplotlib.pyplot as plt\n",
    "import seaborn as sns\n",
    "%matplotlib inline\n",
    "plt.style.use('ggplot')\n",
    "\n",
    "from IPython.core.debugger import set_trace\n",
    "\n",
    "from sklearn.impute import SimpleImputer"
   ]
  },
  {
   "cell_type": "markdown",
   "metadata": {},
   "source": [
    "## Local Imports"
   ]
  },
  {
   "cell_type": "code",
   "execution_count": 72,
   "metadata": {},
   "outputs": [],
   "source": [
    "from phuc import data_process, file\n",
    "from phuc import visualization as vs"
   ]
  },
  {
   "cell_type": "markdown",
   "metadata": {},
   "source": [
    "## Reload data path"
   ]
  },
  {
   "cell_type": "code",
   "execution_count": 73,
   "metadata": {},
   "outputs": [
    {
     "name": "stdout",
     "output_type": "stream",
     "text": [
      "Loaded file data_path.pkl\n",
      "Duplicate Name SCRIPTS_DIR\n",
      "/home/phuc/Desktop/Work/Data Sience/Epidemic Modeling/MathModel/data/raw/OurWorldInData/scripts/scripts\n",
      "/home/phuc/Desktop/Work/Data Sience/Epidemic Modeling/MathModel/data/raw/OurWorldInData/scripts\n",
      "Duplicate Name DATA_DIR\n",
      "/home/phuc/Desktop/Work/Data Sience/Epidemic Modeling/MathModel/data/raw/OurWorldInData/public/data\n",
      "/home/phuc/Desktop/Work/Data Sience/Epidemic Modeling/MathModel/data\n",
      "Duplicate Name WHO_DIR\n",
      "/home/phuc/Desktop/Work/Data Sience/Epidemic Modeling/MathModel/data/raw/OurWorldInData/public/data/who\n",
      "/home/phuc/Desktop/Work/Data Sience/Epidemic Modeling/MathModel/data/raw/OurWorldInData/scripts/input/who\n",
      "Duplicate Name ECDC_DIR\n",
      "/home/phuc/Desktop/Work/Data Sience/Epidemic Modeling/MathModel/data/raw/OurWorldInData/public/data/ecdc\n",
      "/home/phuc/Desktop/Work/Data Sience/Epidemic Modeling/MathModel/data/raw/OurWorldInData/scripts/input/ecdc\n",
      "Directory  /home/phuc/Desktop/Work/Data Sience/Epidemic Modeling/MathModel  already exists\n",
      "Saved file data_path.pkl\n"
     ]
    }
   ],
   "source": [
    "from phuc.file import standard_template\n",
    "\n",
    "standard_template.save_data_path(os.getcwd().split('/src')[0])"
   ]
  },
  {
   "cell_type": "markdown",
   "metadata": {},
   "source": [
    "##  Setup Pandas"
   ]
  },
  {
   "cell_type": "code",
   "execution_count": 74,
   "metadata": {},
   "outputs": [],
   "source": [
    "pd.set_option('display.max_rows', 200)\n",
    "pd.set_option('display.max_columns', 100)"
   ]
  },
  {
   "cell_type": "markdown",
   "metadata": {},
   "source": [
    "## Set up data path"
   ]
  },
  {
   "cell_type": "code",
   "execution_count": 75,
   "metadata": {},
   "outputs": [],
   "source": [
    "CURR_DIR = os.getcwd().split('/src')[0]"
   ]
  },
  {
   "cell_type": "code",
   "execution_count": 76,
   "metadata": {},
   "outputs": [
    {
     "name": "stdout",
     "output_type": "stream",
     "text": [
      "Loaded file data_path.pkl\n",
      "Loaded file data_path.pkl\n"
     ]
    }
   ],
   "source": [
    "dir_path = file.load_pickle(CURR_DIR + '/data_path.pkl')['DIRS']\n",
    "file_path = file.load_pickle(CURR_DIR + '/data_path.pkl')['FILES']"
   ]
  },
  {
   "cell_type": "markdown",
   "metadata": {},
   "source": [
    "# Code"
   ]
  },
  {
   "cell_type": "code",
   "execution_count": 77,
   "metadata": {},
   "outputs": [
    {
     "name": "stdout",
     "output_type": "stream",
     "text": [
      "Loaded file cumumlativedaily_confirmed.pkl\n"
     ]
    }
   ],
   "source": [
    "confirmed = file.load_pickle(file_path['CUMUMLATIVEDAILY_CONFIRMED_PKL_PATH'])\n",
    "\n",
    "nations = confirmed.columns[1:]"
   ]
  },
  {
   "cell_type": "code",
   "execution_count": 78,
   "metadata": {
    "scrolled": false
   },
   "outputs": [
    {
     "name": "stdout",
     "output_type": "stream",
     "text": [
      "owid-covid-data.csv 's information:\n",
      "<class 'pandas.core.frame.DataFrame'>\n",
      "RangeIndex: 30641 entries, 0 to 30640\n",
      "Data columns (total 34 columns):\n",
      " #   Column                           Non-Null Count  Dtype  \n",
      "---  ------                           --------------  -----  \n",
      " 0   iso_code                         30577 non-null  object \n",
      " 1   continent                        30378 non-null  object \n",
      " 2   location                         30641 non-null  object \n",
      " 3   date                             30641 non-null  object \n",
      " 4   total_cases                      30330 non-null  float64\n",
      " 5   new_cases                        30330 non-null  float64\n",
      " 6   total_deaths                     30330 non-null  float64\n",
      " 7   new_deaths                       30330 non-null  float64\n",
      " 8   total_cases_per_million          30266 non-null  float64\n",
      " 9   new_cases_per_million            30266 non-null  float64\n",
      " 10  total_deaths_per_million         30266 non-null  float64\n",
      " 11  new_deaths_per_million           30266 non-null  float64\n",
      " 12  total_tests                      9243 non-null   float64\n",
      " 13  new_tests                        8844 non-null   float64\n",
      " 14  total_tests_per_thousand         9243 non-null   float64\n",
      " 15  new_tests_per_thousand           8844 non-null   float64\n",
      " 16  new_tests_smoothed               10041 non-null  float64\n",
      " 17  new_tests_smoothed_per_thousand  10041 non-null  float64\n",
      " 18  tests_units                      10736 non-null  object \n",
      " 19  stringency_index                 24788 non-null  float64\n",
      " 20  population                       30577 non-null  float64\n",
      " 21  population_density               29278 non-null  float64\n",
      " 22  median_age                       27610 non-null  float64\n",
      " 23  aged_65_older                    27214 non-null  float64\n",
      " 24  aged_70_older                    27468 non-null  float64\n",
      " 25  gdp_per_capita                   27284 non-null  float64\n",
      " 26  extreme_poverty                  18254 non-null  float64\n",
      " 27  cvd_death_rate                   27633 non-null  float64\n",
      " 28  diabetes_prevalence              28550 non-null  float64\n",
      " 29  female_smokers                   22013 non-null  float64\n",
      " 30  male_smokers                     21753 non-null  float64\n",
      " 31  handwashing_facilities           12568 non-null  float64\n",
      " 32  hospital_beds_per_thousand       25177 non-null  float64\n",
      " 33  life_expectancy                  30214 non-null  float64\n",
      "dtypes: float64(29), object(5)\n",
      "memory usage: 7.9+ MB\n",
      "None\n",
      "\n"
     ]
    }
   ],
   "source": [
    "dat = data_process.read_csv(file_path['OWID-COVID-DATA_CSV_PATH'])"
   ]
  },
  {
   "cell_type": "code",
   "execution_count": 79,
   "metadata": {},
   "outputs": [
    {
     "name": "stdout",
     "output_type": "stream",
     "text": [
      "Directory  /home/phuc/Desktop/Work/Data Sience/Epidemic Modeling/MathModel/data/processed  already exists\n",
      "Saved file policy_stringency.pkl\n"
     ]
    }
   ],
   "source": [
    "# fix different name of Czech Republic\n",
    "dat['location'].replace({'Czech Republic': 'Czechia'}, inplace = True)\n",
    "\n",
    "dat = dat.pivot(index='date',columns='location',\n",
    "                values = 'stringency_index')\n",
    "\n",
    "dat.columns.name = None\n",
    "\n",
    "dat.reset_index(inplace= True)\n",
    "\n",
    "dat = dat[nations][1:190]\n",
    "\n",
    "# Fill NaN by mean\n",
    "mean_values = dat.mean(axis=1)\n",
    "\n",
    "for i, _ in enumerate(dat):\n",
    "    dat.iloc[:, i] = dat.iloc[:, i].fillna(mean_values)\n",
    "\n",
    "# save data\n",
    "file.save_pickle(dir_path['PROCESSED_DIR'] + '/policy_stringency.pkl',\n",
    "                 dat)\n",
    "\n",
    "dat.to_csv(dir_path['PROCESSED_DIR'] + '/policy_stringency.csv',\n",
    "           index = False)"
   ]
  },
  {
   "cell_type": "markdown",
   "metadata": {},
   "source": [
    "# Colab Settings"
   ]
  },
  {
   "cell_type": "markdown",
   "metadata": {},
   "source": [
    "## Connect Drive"
   ]
  },
  {
   "cell_type": "code",
   "execution_count": null,
   "metadata": {},
   "outputs": [],
   "source": [
    "from google.colab import drive \n",
    "# conncent phuc.phan1012000@hcmut.edu.vn\n",
    "\n",
    "# default location for the drive\n",
    "ROOT = \"/content/drive\"            \n",
    "drive.mount(ROOT)   "
   ]
  },
  {
   "cell_type": "markdown",
   "metadata": {},
   "source": [
    "## Load Library"
   ]
  },
  {
   "cell_type": "code",
   "execution_count": null,
   "metadata": {},
   "outputs": [],
   "source": [
    "import sys\n",
    "import os\n",
    "# Load my phuc's library\n",
    "sys.path.append(\"/content/drive/My Drive/Work/Data_Science_Library\")"
   ]
  },
  {
   "cell_type": "markdown",
   "metadata": {},
   "source": [
    "## Setup Project"
   ]
  },
  {
   "cell_type": "code",
   "execution_count": null,
   "metadata": {},
   "outputs": [],
   "source": [
    "GIT_REPOSITORY = \"kalapa-s-CreditScore\"\n",
    "# path to project on Google Drive\n",
    "MY_GOOGLE_DRIVE_PATH = 'My Drive/Work/Projects'\n",
    "PROJECT_PATH = os.path.join(ROOT, MY_GOOGLE_DRIVE_PATH,GIT_REPOSITORY)\n",
    "\n",
    "# GO TO WORKING PROJECT PATH\n",
    "os.chdir(PROJECT_PATH+'/src')\n",
    "os.remove(PROJECT_PATH+'/data_path.pkl')"
   ]
  }
 ],
 "metadata": {
  "kernelspec": {
   "display_name": "Python 3",
   "language": "python",
   "name": "python3"
  },
  "language_info": {
   "codemirror_mode": {
    "name": "ipython",
    "version": 3
   },
   "file_extension": ".py",
   "mimetype": "text/x-python",
   "name": "python",
   "nbconvert_exporter": "python",
   "pygments_lexer": "ipython3",
   "version": "3.8.2"
  },
  "toc": {
   "base_numbering": 1,
   "nav_menu": {},
   "number_sections": false,
   "sideBar": false,
   "skip_h1_title": false,
   "title_cell": "Table of Contents",
   "title_sidebar": "Contents",
   "toc_cell": false,
   "toc_position": {
    "height": "631.717px",
    "left": "404px",
    "top": "60.2833px",
    "width": "383.283px"
   },
   "toc_section_display": true,
   "toc_window_display": false
  },
  "varInspector": {
   "cols": {
    "lenName": 16,
    "lenType": 16,
    "lenVar": 40
   },
   "kernels_config": {
    "python": {
     "delete_cmd_postfix": "",
     "delete_cmd_prefix": "del ",
     "library": "var_list.py",
     "varRefreshCmd": "print(var_dic_list())"
    },
    "r": {
     "delete_cmd_postfix": ") ",
     "delete_cmd_prefix": "rm(",
     "library": "var_list.r",
     "varRefreshCmd": "cat(var_dic_list()) "
    }
   },
   "types_to_exclude": [
    "module",
    "function",
    "builtin_function_or_method",
    "instance",
    "_Feature"
   ],
   "window_display": false
  }
 },
 "nbformat": 4,
 "nbformat_minor": 2
}
