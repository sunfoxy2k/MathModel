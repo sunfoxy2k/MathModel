{
 "cells": [
  {
   "cell_type": "markdown",
   "metadata": {},
   "source": [
    "# Description"
   ]
  },
  {
   "cell_type": "markdown",
   "metadata": {},
   "source": [
    "Get Covid case information in EU"
   ]
  },
  {
   "cell_type": "markdown",
   "metadata": {},
   "source": [
    "# Environment"
   ]
  },
  {
   "cell_type": "markdown",
   "metadata": {},
   "source": [
    "## Library Imports"
   ]
  },
  {
   "cell_type": "code",
   "execution_count": 1,
   "metadata": {
    "ExecuteTime": {
     "end_time": "2019-12-15T02:58:49.170394Z",
     "start_time": "2019-12-15T02:58:48.965784Z"
    }
   },
   "outputs": [],
   "source": [
    "import os\n",
    "import gc\n",
    "gc.enable()\n",
    "\n",
    "import numpy as np\n",
    "import pandas as pd\n",
    "\n",
    "import matplotlib.pyplot as plt\n",
    "import seaborn as sns\n",
    "%matplotlib inline\n",
    "plt.style.use('ggplot')"
   ]
  },
  {
   "cell_type": "markdown",
   "metadata": {},
   "source": [
    "## Local Imports"
   ]
  },
  {
   "cell_type": "code",
   "execution_count": 2,
   "metadata": {},
   "outputs": [],
   "source": [
    "from phuc import data_process, file\n",
    "from phuc import visualization as vs"
   ]
  },
  {
   "cell_type": "markdown",
   "metadata": {},
   "source": [
    "## Reload data path"
   ]
  },
  {
   "cell_type": "code",
   "execution_count": 3,
   "metadata": {},
   "outputs": [
    {
     "name": "stdout",
     "output_type": "stream",
     "text": [
      "Loaded file data_path.pkl\n",
      "Directory  /home/phuc/Desktop/Work/Data Sience/Epidemic Modeling/MathModel  already exists\n",
      "Saved file data_path.pkl\n"
     ]
    }
   ],
   "source": [
    "from phuc.file import standard_template\n",
    "\n",
    "standard_template.save_data_path(os.getcwd().split('/src')[0])"
   ]
  },
  {
   "cell_type": "markdown",
   "metadata": {},
   "source": [
    "##  Setup Pandas"
   ]
  },
  {
   "cell_type": "code",
   "execution_count": 4,
   "metadata": {},
   "outputs": [],
   "source": [
    "pd.set_option('display.max_rows', 200)\n",
    "pd.set_option('display.max_columns', 100)"
   ]
  },
  {
   "cell_type": "markdown",
   "metadata": {},
   "source": [
    "## Set up data path"
   ]
  },
  {
   "cell_type": "code",
   "execution_count": 5,
   "metadata": {},
   "outputs": [],
   "source": [
    "CURR_DIR = os.getcwd().split('/src')[0]"
   ]
  },
  {
   "cell_type": "code",
   "execution_count": 6,
   "metadata": {},
   "outputs": [
    {
     "name": "stdout",
     "output_type": "stream",
     "text": [
      "Loaded file data_path.pkl\n",
      "Loaded file data_path.pkl\n"
     ]
    }
   ],
   "source": [
    "file_path = file.load_pickle(CURR_DIR + '/data_path.pkl')['FILES']\n",
    "dir_path = file.load_pickle(CURR_DIR + '/data_path.pkl')['DIRS']\n"
   ]
  },
  {
   "cell_type": "code",
   "execution_count": 7,
   "metadata": {},
   "outputs": [],
   "source": [
    "#for key in file_path: print(key)\n",
    "#for key in dir_path: print(key)"
   ]
  },
  {
   "cell_type": "markdown",
   "metadata": {},
   "source": [
    "# Code"
   ]
  },
  {
   "cell_type": "markdown",
   "metadata": {},
   "source": [
    "#  JOHN HOPSKIN Corona-Virus Repository"
   ]
  },
  {
   "cell_type": "markdown",
   "metadata": {},
   "source": [
    "We use data from COVID-19/csse_covid_19_data/csse_covid_19_time_series/\n",
    "that was cloned from https://github.com/CSSEGISandData/COVID-19 in 08/07/2020\n",
    "\n",
    "This folder contains daily time series summary tables, including confirmed, deaths and recovered. All data is read in from the daily case report. The time series tables are subject to be updated if inaccuracies are identified in our historical data. The daily reports will not be adjusted in these instances to maintain a record of raw data.\n",
    "\n",
    "Two time series tables are for the US confirmed cases and deaths, reported at the county level. They are named time_series_covid19_confirmed_US.csv, time_series_covid19_deaths_US.csv, respectively.\n",
    "\n",
    "Three time series tables are for the global confirmed cases, recovered cases and deaths. Australia, Canada and China are reported at the province/state level. Dependencies of the Netherlands, the UK, France and Denmark are listed under the province/state level. The US and other countries are at the country level. The tables are renamed time_series_covid19_confirmed_global.csv and time_series_covid19_deaths_global.csv, and time_series_covid19_recovered_global.csv, respectively."
   ]
  },
  {
   "cell_type": "markdown",
   "metadata": {},
   "source": [
    "## General Information"
   ]
  },
  {
   "cell_type": "markdown",
   "metadata": {},
   "source": [
    "We decide to use 3 data file:\n",
    "\n",
    "+ TIME_SERIES_COVID19_CONFIRMED_GLOBAL_CSV\n",
    "+ TIME_SERIES_COVID19_RECOVERED_GLOBAL_CSV_PATH\n",
    "+ TIME_SERIES_COVID19_DEATHS_GLOBAL_CSV_PATH\n",
    "\n",
    "Those files share some simlarites:\n",
    "\n",
    "The Data about Corona-Virus from the JOHN HOPSKIN is contain the data from more than 173 Countries/Regions recorded from 1/22/20 to 7/8/20 (MM/DD/YY) in the time, we cloned to our repos.\n",
    "\n",
    "Only have Null value at the Province/State, which is reasonable."
   ]
  },
  {
   "cell_type": "code",
   "execution_count": 13,
   "metadata": {
    "scrolled": true
   },
   "outputs": [
    {
     "name": "stdout",
     "output_type": "stream",
     "text": [
      "time_series_covid19_confirmed_global.csv 's information:\n",
      "<class 'pandas.core.frame.DataFrame'>\n",
      "RangeIndex: 266 entries, 0 to 265\n",
      "Columns: 173 entries, Province/State to 7/8/20\n",
      "dtypes: float64(2), int64(169), object(2)\n",
      "memory usage: 359.6+ KB\n",
      "None\n",
      "\n"
     ]
    }
   ],
   "source": [
    "dat_confirmed = data_process.read_csv(file_path[\\\n",
    "                    'TIME_SERIES_COVID19_CONFIRMED_GLOBAL_CSV_PATH'])"
   ]
  },
  {
   "cell_type": "code",
   "execution_count": 71,
   "metadata": {
    "scrolled": true
   },
   "outputs": [
    {
     "name": "stdout",
     "output_type": "stream",
     "text": [
      "time_series_covid19_recovered_global.csv 's information:\n",
      "<class 'pandas.core.frame.DataFrame'>\n",
      "RangeIndex: 253 entries, 0 to 252\n",
      "Columns: 173 entries, Province/State to 7/8/20\n",
      "dtypes: float64(2), int64(169), object(2)\n",
      "memory usage: 342.1+ KB\n",
      "None\n",
      "\n"
     ]
    }
   ],
   "source": [
    "dat_recovered = data_process.read_csv(file_path[\\\n",
    "                    'TIME_SERIES_COVID19_RECOVERED_GLOBAL_CSV_PATH'])"
   ]
  },
  {
   "cell_type": "code",
   "execution_count": 72,
   "metadata": {},
   "outputs": [
    {
     "name": "stdout",
     "output_type": "stream",
     "text": [
      "time_series_covid19_deaths_global.csv 's information:\n",
      "<class 'pandas.core.frame.DataFrame'>\n",
      "RangeIndex: 266 entries, 0 to 265\n",
      "Columns: 173 entries, Province/State to 7/8/20\n",
      "dtypes: float64(2), int64(169), object(2)\n",
      "memory usage: 359.6+ KB\n",
      "None\n",
      "\n"
     ]
    }
   ],
   "source": [
    "dat_death = data_process.read_csv(file_path[\\\n",
    "                    'TIME_SERIES_COVID19_DEATHS_GLOBAL_CSV_PATH'])"
   ]
  },
  {
   "cell_type": "markdown",
   "metadata": {},
   "source": [
    "# Working Data"
   ]
  },
  {
   "cell_type": "markdown",
   "metadata": {},
   "source": [
    "With the constrain of time and simplicity of our model used to analys, we decide to use only the data in EU countries that shared many similarites in the outbreak and how goverment deal with it."
   ]
  },
  {
   "cell_type": "code",
   "execution_count": 64,
   "metadata": {},
   "outputs": [],
   "source": [
    "EU_nation = \\\n",
    "\"\"\"\\\n",
    "Austria, Belgium, Bulgaria, Croatia, Cyprus, \\\n",
    "Czechia, Denmark, Estonia, Finland, France, Germany,\\\n",
    "Greece, Hungary, Ireland, Italy, Latvia, Lithuania, Luxembourg,\\\n",
    "Malta, Netherlands, Poland, Portugal, Romania, \\\n",
    "Slovakia, Slovenia, Spain, Sweden \\\n",
    "\"\"\".replace(\" \",\"\").split(\",\")\n",
    "\n",
    "# United Kingdom did not official exit from the EU\n",
    "# so we still consider UK is a part of EU\n",
    "\n",
    "EU_nation.append('United Kingdom')"
   ]
  },
  {
   "cell_type": "markdown",
   "metadata": {},
   "source": [
    "Dependent states is not consider in our analysis due to the geographical distances."
   ]
  },
  {
   "cell_type": "code",
   "execution_count": 86,
   "metadata": {
    "scrolled": false
   },
   "outputs": [
    {
     "name": "stdout",
     "output_type": "stream",
     "text": [
      "Directory  /home/phuc/Desktop/Work/Data Sience/Epidemic Modeling/MathModel/data/working  already exists\n",
      "Saved file EU_confirmed.pkl\n",
      "Directory  /home/phuc/Desktop/Work/Data Sience/Epidemic Modeling/MathModel/data/working  already exists\n",
      "Saved file EU_death.pkl\n",
      "Directory  /home/phuc/Desktop/Work/Data Sience/Epidemic Modeling/MathModel/data/working  already exists\n",
      "Saved file EU_recovered.pkl\n"
     ]
    }
   ],
   "source": [
    "for name_df, df in [['EU_confirmed', dat_confirmed], \n",
    "                    ['EU_death' ,dat_death],\n",
    "                    ['EU_recovered',dat_recovered]]:\n",
    "\n",
    "    df_eu = df[df['Country/Region'].\\\n",
    "                    isin(EU_nation)].reset_index(drop=True)\n",
    "\n",
    "    # remove dependent state\n",
    "    df_eu = df_eu[df_eu['Province/State'].isnull()].\\\n",
    "                    reset_index(drop=True)\n",
    "    \n",
    "    # drop unnecessary columns\n",
    "    df_eu = df_eu.drop(['Province/State','Lat','Long'],axis =1)\n",
    "                    \n",
    "    file.save_pickle(dir_path['WORKING_DIR'] +'/'+ name_df+'.pkl', df_eu)\n",
    "    df_eu.to_csv(dir_path['WORKING_DIR'] +'/'+ name_df+'.csv',index=False)"
   ]
  },
  {
   "cell_type": "code",
   "execution_count": null,
   "metadata": {},
   "outputs": [],
   "source": []
  },
  {
   "cell_type": "markdown",
   "metadata": {},
   "source": [
    "# Colab Settings"
   ]
  },
  {
   "cell_type": "markdown",
   "metadata": {},
   "source": [
    "## Connect Drive"
   ]
  },
  {
   "cell_type": "code",
   "execution_count": null,
   "metadata": {},
   "outputs": [],
   "source": [
    "from google.colab import drive \n",
    "# conncent phuc.phan1012000@hcmut.edu.vn\n",
    "\n",
    "# default location for the drive\n",
    "ROOT = \"/content/drive\"            \n",
    "drive.mount(ROOT)   "
   ]
  },
  {
   "cell_type": "markdown",
   "metadata": {},
   "source": [
    "## Load Library"
   ]
  },
  {
   "cell_type": "code",
   "execution_count": null,
   "metadata": {},
   "outputs": [],
   "source": [
    "import sys\n",
    "import os\n",
    "# Load phuc's library on Colab\n",
    "sys.path.append(\"/content/drive/My Drive/Work/Data_Science_Library\")"
   ]
  },
  {
   "cell_type": "markdown",
   "metadata": {},
   "source": [
    "## Setup Project"
   ]
  },
  {
   "cell_type": "code",
   "execution_count": null,
   "metadata": {},
   "outputs": [],
   "source": [
    "GIT_REPOSITORY = \"kalapa-s-CreditScore\"\n",
    "# path to project on Google Drive\n",
    "MY_GOOGLE_DRIVE_PATH = 'My Drive/Work/Projects'\n",
    "PROJECT_PATH = os.path.join(ROOT, MY_GOOGLE_DRIVE_PATH,GIT_REPOSITORY)\n",
    "\n",
    "# GO TO WORKING PROJECT PATH\n",
    "os.chdir(PROJECT_PATH+'/src')\n",
    "os.remove(PROJECT_PATH+'/data_path.pkl')"
   ]
  }
 ],
 "metadata": {
  "kernelspec": {
   "display_name": "Python 3",
   "language": "python",
   "name": "python3"
  },
  "language_info": {
   "codemirror_mode": {
    "name": "ipython",
    "version": 3
   },
   "file_extension": ".py",
   "mimetype": "text/x-python",
   "name": "python",
   "nbconvert_exporter": "python",
   "pygments_lexer": "ipython3",
   "version": "3.8.2"
  },
  "toc": {
   "base_numbering": 1,
   "nav_menu": {},
   "number_sections": false,
   "sideBar": false,
   "skip_h1_title": false,
   "title_cell": "Table of Contents",
   "title_sidebar": "Contents",
   "toc_cell": false,
   "toc_position": {
    "height": "631.717px",
    "left": "404px",
    "top": "60.2833px",
    "width": "383.283px"
   },
   "toc_section_display": true,
   "toc_window_display": false
  },
  "varInspector": {
   "cols": {
    "lenName": 16,
    "lenType": 16,
    "lenVar": 40
   },
   "kernels_config": {
    "python": {
     "delete_cmd_postfix": "",
     "delete_cmd_prefix": "del ",
     "library": "var_list.py",
     "varRefreshCmd": "print(var_dic_list())"
    },
    "r": {
     "delete_cmd_postfix": ") ",
     "delete_cmd_prefix": "rm(",
     "library": "var_list.r",
     "varRefreshCmd": "cat(var_dic_list()) "
    }
   },
   "types_to_exclude": [
    "module",
    "function",
    "builtin_function_or_method",
    "instance",
    "_Feature"
   ],
   "window_display": false
  }
 },
 "nbformat": 4,
 "nbformat_minor": 2
}
