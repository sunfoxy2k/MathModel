{
 "cells": [
  {
   "cell_type": "markdown",
   "metadata": {},
   "source": [
    "# Description"
   ]
  },
  {
   "cell_type": "code",
   "execution_count": null,
   "metadata": {},
   "outputs": [],
   "source": []
  },
  {
   "cell_type": "markdown",
   "metadata": {},
   "source": [
    "# Environment"
   ]
  },
  {
   "cell_type": "markdown",
   "metadata": {},
   "source": [
    "## Library Imports"
   ]
  },
  {
   "cell_type": "code",
   "execution_count": 1,
   "metadata": {
    "ExecuteTime": {
     "end_time": "2019-12-15T02:58:49.170394Z",
     "start_time": "2019-12-15T02:58:48.965784Z"
    }
   },
   "outputs": [],
   "source": [
    "import os\n",
    "import gc\n",
    "gc.enable()\n",
    "\n",
    "import numpy as np\n",
    "import pandas as pd\n",
    "\n",
    "import matplotlib.pyplot as plt\n",
    "import seaborn as sns\n",
    "%matplotlib inline\n",
    "plt.style.use('ggplot')"
   ]
  },
  {
   "cell_type": "markdown",
   "metadata": {},
   "source": [
    "## Local Imports"
   ]
  },
  {
   "cell_type": "code",
   "execution_count": 2,
   "metadata": {},
   "outputs": [],
   "source": [
    "from phuc import data_process, file\n",
    "from phuc import visualization as vs"
   ]
  },
  {
   "cell_type": "markdown",
   "metadata": {},
   "source": [
    "## Reload data path"
   ]
  },
  {
   "cell_type": "code",
   "execution_count": 3,
   "metadata": {},
   "outputs": [
    {
     "name": "stdout",
     "output_type": "stream",
     "text": [
      "Loaded file data_path.pkl\n",
      "Directory  /home/phuc/Desktop/Work/Data Sience/Epidemic Modeling/MathModel  already exists\n",
      "Saved file data_path.pkl\n"
     ]
    }
   ],
   "source": [
    "from phuc.file import standard_template\n",
    "\n",
    "standard_template.save_data_path(os.getcwd().split('/src')[0])"
   ]
  },
  {
   "cell_type": "markdown",
   "metadata": {},
   "source": [
    "##  Setup Pandas"
   ]
  },
  {
   "cell_type": "code",
   "execution_count": 4,
   "metadata": {},
   "outputs": [],
   "source": [
    "pd.set_option('display.max_rows', 100)\n",
    "pd.set_option('display.max_columns', 100)"
   ]
  },
  {
   "cell_type": "markdown",
   "metadata": {},
   "source": [
    "## Set up data path"
   ]
  },
  {
   "cell_type": "code",
   "execution_count": 5,
   "metadata": {},
   "outputs": [],
   "source": [
    "CURR_DIR = os.getcwd().split('/src')[0]"
   ]
  },
  {
   "cell_type": "code",
   "execution_count": 6,
   "metadata": {},
   "outputs": [
    {
     "name": "stdout",
     "output_type": "stream",
     "text": [
      "Loaded file data_path.pkl\n"
     ]
    }
   ],
   "source": [
    "data_path = file.load_pickle(CURR_DIR + '/data_path.pkl')"
   ]
  },
  {
   "cell_type": "code",
   "execution_count": 7,
   "metadata": {},
   "outputs": [
    {
     "name": "stdout",
     "output_type": "stream",
     "text": [
      "PROJECT_DIR\n",
      "OUTPUTS_DIR\n",
      "PROCESSED_DIR\n",
      "WORKING_DIR\n",
      "RAW_DIR\n",
      "EXTERNAL_DIR\n",
      "COVID-19_DIR\n",
      "ARCHIVED_DATA_DIR\n",
      "WHO_COVID_19_SITUATION_REPORTS_DIR\n",
      "CSSE_COVID_19_DATA_DIR\n",
      "TIME_SERIES_2019-NCOV-RECOVERED_CSV_PATH\n",
      "ARCHIVED_TIME_SERIES_DIR\n",
      "02-12-2020_2200_CSV_PATH\n",
      "02-12-2020_1020_CSV_PATH\n",
      "01-23-2020_1200_CSV_PATH\n",
      "01-21-2020_2200_CSV_PATH\n",
      "02-03-2020_1230_CSV_PATH\n",
      "02-01-2020_1800_CSV_PATH\n",
      "02-02-2020_0500_CSV_PATH\n",
      "02-08-2020_2304_CSV_PATH\n",
      "01-29-2020_1430_CSV_PATH\n",
      "01-31-2020_1400_CSV_PATH\n",
      "01-25-2020_2200_CSV_PATH\n",
      "ARCHIVED_DAILY_CASE_UPDATES_DIR\n",
      "WHO_COVID_19_SIT_REP_TIME_SERIES_CSV_PATH\n",
      "WHO_COVID_19_SIT_REP_PDFS_DIR\n",
      "TIME_SERIES_COVID19_CONFIRMED_US_CSV_PATH\n",
      "ERRATA_CSV_PATH\n",
      "CSSE_COVID_19_TIME_SERIES_DIR\n",
      "03-08-2020_CSV_PATH\n",
      "05-01-2020_CSV_PATH\n",
      "04-16-2020_CSV_PATH\n",
      "01-27-2020_CSV_PATH\n",
      "05-02-2020_CSV_PATH\n",
      "04-17-2020_CSV_PATH\n",
      "06-28-2020_CSV_PATH\n",
      "06-25-2020_CSV_PATH\n",
      "04-13-2020_CSV_PATH\n",
      "04-12-2020_CSV_PATH\n",
      "03-20-2020_CSV_PATH\n",
      "03-05-2020_CSV_PATH\n",
      "05-17-2020_CSV_PATH\n",
      "02-01-2020_CSV_PATH\n",
      "05-13-2020_CSV_PATH\n",
      "04-10-2020_CSV_PATH\n",
      "01-25-2020_CSV_PATH\n",
      "05-26-2020_CSV_PATH\n",
      "06-09-2020_CSV_PATH\n",
      "06-13-2020_CSV_PATH\n",
      "02-19-2020_CSV_PATH\n",
      "CSSE_COVID_19_DAILY_REPORTS_DIR\n",
      "05-18-2020_CSV_PATH\n",
      "04-28-2020_CSV_PATH\n",
      "04-24-2020_CSV_PATH\n",
      "05-30-2020_CSV_PATH\n",
      "06-24-2020_CSV_PATH\n",
      "05-20-2020_CSV_PATH\n",
      "07-01-2020_CSV_PATH\n",
      "06-20-2020_CSV_PATH\n",
      "06-05-2020_CSV_PATH\n",
      "06-01-2020_CSV_PATH\n",
      "CSSE_COVID_19_DAILY_REPORTS_US_DIR\n"
     ]
    }
   ],
   "source": [
    "for key in data_path: print(key)"
   ]
  },
  {
   "cell_type": "markdown",
   "metadata": {},
   "source": [
    "# Code"
   ]
  },
  {
   "cell_type": "code",
   "execution_count": 9,
   "metadata": {
    "scrolled": false
   },
   "outputs": [
    {
     "name": "stdout",
     "output_type": "stream",
     "text": [
      "time_series_2019-ncov-Recovered.csv 's information:\n",
      "<class 'pandas.core.frame.DataFrame'>\n",
      "RangeIndex: 74 entries, 0 to 73\n",
      "Data columns (total 49 columns):\n",
      "Province/State    53 non-null object\n",
      "Country/Region    74 non-null object\n",
      "Lat               74 non-null float64\n",
      "Long              74 non-null float64\n",
      "1/21/20 22:00     1 non-null float64\n",
      "1/22/20 12:00     1 non-null float64\n",
      "1/23/20 12:00     2 non-null float64\n",
      "1/24/20 0:00      3 non-null float64\n",
      "1/24/20 12:00     5 non-null float64\n",
      "1/25/20 0:00      6 non-null float64\n",
      "1/25/20 12:00     6 non-null float64\n",
      "1/25/20 22:00     6 non-null float64\n",
      "1/26/20 11:00     8 non-null float64\n",
      "1/26/20 23:00     8 non-null float64\n",
      "1/27/20 9:00      9 non-null float64\n",
      "1/27/20 19:00     9 non-null float64\n",
      "1/27/20 20:30     9 non-null float64\n",
      "1/28/20 13:00     10 non-null float64\n",
      "1/28/20 18:00     10 non-null float64\n",
      "1/28/20 23:00     12 non-null float64\n",
      "1/29/20 13:30     14 non-null float64\n",
      "1/29/20 14:30     18 non-null float64\n",
      "1/29/20 21:00     19 non-null float64\n",
      "1/30/20 11:00     21 non-null float64\n",
      "1/31/20 14:00     23 non-null float64\n",
      "2/1/20 10:00      26 non-null float64\n",
      "2/2/20 21:00      29 non-null float64\n",
      "2/3/20 21:00      35 non-null float64\n",
      "2/4/20 9:40       32 non-null float64\n",
      "2/4/20 22:00      32 non-null float64\n",
      "2/5/20 9:00       33 non-null float64\n",
      "2/5/20 23:00      33 non-null float64\n",
      "2/6/20 9:00       33 non-null float64\n",
      "2/6/20 14:20      35 non-null float64\n",
      "2/7/20 20:13      37 non-null float64\n",
      "2/7/20 22:50      38 non-null float64\n",
      "2/8/20 10:24      72 non-null float64\n",
      "2/8/20 23:04      72 non-null float64\n",
      "2/9/20 10:30      72 non-null float64\n",
      "2/9/20 23:20      72 non-null float64\n",
      "2/10/20 10:30     72 non-null float64\n",
      "2/10/20 19:30     72 non-null float64\n",
      "2/11/20 10:50     73 non-null float64\n",
      "2/11/20 20:44     73 non-null float64\n",
      "2/12/20 10:20     73 non-null float64\n",
      "2/12/20 22:00     73 non-null float64\n",
      "2/13/20 10:00     73 non-null float64\n",
      "2/13/20 21:15     74 non-null int64\n",
      "2/14/20 11:23     74 non-null int64\n",
      "dtypes: float64(45), int64(2), object(2)\n",
      "memory usage: 28.5+ KB\n",
      "None\n",
      "\n"
     ]
    }
   ],
   "source": [
    "dat = data_process.read_csv(data_path['DA'])"
   ]
  },
  {
   "cell_type": "code",
   "execution_count": 22,
   "metadata": {},
   "outputs": [
    {
     "data": {
      "text/plain": [
       "(74, 49)"
      ]
     },
     "execution_count": 22,
     "metadata": {},
     "output_type": "execute_result"
    }
   ],
   "source": [
    "dat.shape"
   ]
  },
  {
   "cell_type": "markdown",
   "metadata": {},
   "source": [
    "# Colab Settings"
   ]
  },
  {
   "cell_type": "markdown",
   "metadata": {},
   "source": [
    "## Connect Drive"
   ]
  },
  {
   "cell_type": "code",
   "execution_count": null,
   "metadata": {},
   "outputs": [],
   "source": [
    "from google.colab import drive \n",
    "# conncent phuc.phan1012000@hcmut.edu.vn\n",
    "\n",
    "# default location for the drive\n",
    "ROOT = \"/content/drive\"            \n",
    "drive.mount(ROOT)   "
   ]
  },
  {
   "cell_type": "markdown",
   "metadata": {},
   "source": [
    "## Load Library"
   ]
  },
  {
   "cell_type": "code",
   "execution_count": null,
   "metadata": {},
   "outputs": [],
   "source": [
    "import sys\n",
    "import os\n",
    "# Load my phuc's library\n",
    "sys.path.append(\"/content/drive/My Drive/Work/Data_Science_Library\")"
   ]
  },
  {
   "cell_type": "markdown",
   "metadata": {},
   "source": [
    "## Setup Project"
   ]
  },
  {
   "cell_type": "code",
   "execution_count": null,
   "metadata": {},
   "outputs": [],
   "source": [
    "GIT_REPOSITORY = \"kalapa-s-CreditScore\"\n",
    "# path to project on Google Drive\n",
    "MY_GOOGLE_DRIVE_PATH = 'My Drive/Work/Projects'\n",
    "PROJECT_PATH = os.path.join(ROOT, MY_GOOGLE_DRIVE_PATH,GIT_REPOSITORY)\n",
    "\n",
    "# GO TO WORKING PROJECT PATH\n",
    "os.chdir(PROJECT_PATH+'/src')\n",
    "os.remove(PROJECT_PATH+'/data_path.pkl')"
   ]
  }
 ],
 "metadata": {
  "kernelspec": {
   "display_name": "Python 3",
   "language": "python",
   "name": "python3"
  },
  "language_info": {
   "codemirror_mode": {
    "name": "ipython",
    "version": 3
   },
   "file_extension": ".py",
   "mimetype": "text/x-python",
   "name": "python",
   "nbconvert_exporter": "python",
   "pygments_lexer": "ipython3",
   "version": "3.6.8"
  },
  "toc": {
   "base_numbering": 1,
   "nav_menu": {},
   "number_sections": false,
   "sideBar": false,
   "skip_h1_title": false,
   "title_cell": "Table of Contents",
   "title_sidebar": "Contents",
   "toc_cell": false,
   "toc_position": {
    "height": "631.717px",
    "left": "404px",
    "top": "60.2833px",
    "width": "383.283px"
   },
   "toc_section_display": true,
   "toc_window_display": false
  },
  "varInspector": {
   "cols": {
    "lenName": 16,
    "lenType": 16,
    "lenVar": 40
   },
   "kernels_config": {
    "python": {
     "delete_cmd_postfix": "",
     "delete_cmd_prefix": "del ",
     "library": "var_list.py",
     "varRefreshCmd": "print(var_dic_list())"
    },
    "r": {
     "delete_cmd_postfix": ") ",
     "delete_cmd_prefix": "rm(",
     "library": "var_list.r",
     "varRefreshCmd": "cat(var_dic_list()) "
    }
   },
   "types_to_exclude": [
    "module",
    "function",
    "builtin_function_or_method",
    "instance",
    "_Feature"
   ],
   "window_display": false
  }
 },
 "nbformat": 4,
 "nbformat_minor": 2
}
